{
 "cells": [
  {
   "cell_type": "code",
   "execution_count": 120,
   "metadata": {},
   "outputs": [],
   "source": [
    "import numpy as np\n",
    "import matplotlib.pyplot as plt \n",
    "import pandas as pd"
   ]
  },
  {
   "cell_type": "code",
   "execution_count": 121,
   "metadata": {},
   "outputs": [
    {
     "name": "stderr",
     "output_type": "stream",
     "text": [
      "[nltk_data] Downloading package stopwords to C:\\Users\\Vikash\n",
      "[nltk_data]     Agarwal\\AppData\\Roaming\\nltk_data...\n",
      "[nltk_data]   Package stopwords is already up-to-date!\n"
     ]
    },
    {
     "data": {
      "text/plain": [
       "True"
      ]
     },
     "execution_count": 121,
     "metadata": {},
     "output_type": "execute_result"
    }
   ],
   "source": [
    "import re\n",
    "import nltk\n",
    "nltk.download('stopwords')"
   ]
  },
  {
   "cell_type": "code",
   "execution_count": 122,
   "metadata": {},
   "outputs": [
    {
     "name": "stderr",
     "output_type": "stream",
     "text": [
      "[nltk_data] Downloading package wordnet to C:\\Users\\Vikash\n",
      "[nltk_data]     Agarwal\\AppData\\Roaming\\nltk_data...\n",
      "[nltk_data]   Package wordnet is already up-to-date!\n"
     ]
    }
   ],
   "source": [
    "import PyPDF2\n",
    "from nltk.corpus import stopwords\n",
    "from nltk.stem.porter import PorterStemmer\n",
    "nltk.download('wordnet')\n",
    "from nltk.stem import WordNetLemmatizer"
   ]
  },
  {
   "cell_type": "code",
   "execution_count": 123,
   "metadata": {},
   "outputs": [],
   "source": [
    "file = PyPDF2.PdfFileReader(\"file001.pdf\")\n",
    "Numpages=file.getNumPages()\n",
    "text = \"\"\n",
    "for j in range(0,Numpages):\n",
    "    PageObj = file.getPage(j)\n",
    "    text = text + \" \" + PageObj.extractText()"
   ]
  },
  {
   "cell_type": "code",
   "execution_count": 124,
   "metadata": {},
   "outputs": [],
   "source": [
    "#paragraphs = re.split ('\\.|\\?|\\!', text) # Sentence break\n",
    "paragraphs = re.split ('\\.\\n', text) # Paragraph break\n",
    "paragraphs = [re.sub('[^-\\.!\\?,;a-zA-Z0-9]+', ' ', paragraph.strip()) for paragraph in paragraphs]\n",
    "original_para = paragraphs.copy()"
   ]
  },
  {
   "cell_type": "code",
   "execution_count": 125,
   "metadata": {},
   "outputs": [],
   "source": [
    "lm = WordNetLemmatizer()\n",
    "paragraphs = [re.sub('[^-a-zA-Z0-9]+', ' ', paragraph.lower()) for paragraph in paragraphs]\n",
    "for paragraph in paragraphs:\n",
    "    paragraph = [lm.lemmatize(word) for word in paragraph if not word in stopwords.words('english')]"
   ]
  },
  {
   "cell_type": "code",
   "execution_count": 126,
   "metadata": {},
   "outputs": [],
   "source": [
    "from gensim.test.utils import common_texts\n",
    "from gensim.models.doc2vec import Doc2Vec, TaggedDocument\n",
    "paragraphs = [TaggedDocument(para, [i]) for i, para in enumerate(paragraphs)]"
   ]
  },
  {
   "cell_type": "code",
   "execution_count": 128,
   "metadata": {},
   "outputs": [
    {
     "name": "stdout",
     "output_type": "stream",
     "text": [
      "Training completed...\n"
     ]
    },
    {
     "name": "stderr",
     "output_type": "stream",
     "text": [
      "UserWarning: This function is deprecated, use smart_open.open instead. See the migration notes for details: https://github.com/RaRe-Technologies/smart_open/blob/master/README.rst#migrating-to-the-new-open-function [smart_open_lib.py:402]\n"
     ]
    }
   ],
   "source": [
    "model = Doc2Vec(paragraphs, corpus_file=None, vector_size=128, dm_mean=None, dm=1, dbow_words=0, dm_concat=0,\n",
    "                dm_tag_count=1, dv=None, dv_mapfile=None, comment=None, trim_rule=None, callbacks=(),\n",
    "                window=5, epochs=1000)\n",
    "print (\"Training completed...\")\n",
    "model.save(\"file001.model\")"
   ]
  },
  {
   "cell_type": "code",
   "execution_count": 129,
   "metadata": {},
   "outputs": [],
   "source": [
    "model= Doc2Vec.load(\"file001.model\")"
   ]
  },
  {
   "cell_type": "code",
   "execution_count": 134,
   "metadata": {},
   "outputs": [],
   "source": [
    "your_space_separated_query = \"Mahatma Gandhi\""
   ]
  },
  {
   "cell_type": "code",
   "execution_count": 135,
   "metadata": {},
   "outputs": [
    {
     "name": "stdout",
     "output_type": "stream",
     "text": [
      "[-3.4050534e-03  2.5804713e-03 -1.8694093e-03 -1.3843336e-03\n",
      "  3.8974974e-04  3.6055630e-04  8.7177526e-04  2.4217600e-03\n",
      "  3.6335172e-04 -2.7094081e-03 -2.3566887e-03  2.6179745e-03\n",
      " -1.7535388e-03  1.3978426e-04 -3.5038849e-03 -3.5946919e-03\n",
      " -1.4026754e-03  2.3254592e-03 -3.8130481e-03  1.8193244e-03\n",
      "  2.0329184e-03  3.6197018e-03  3.1292886e-03  1.6572340e-04\n",
      " -3.0198451e-03 -9.0378418e-04  2.2294484e-03 -1.1261716e-03\n",
      "  8.7905768e-04  9.1310783e-04 -2.3804572e-03  3.0050718e-03\n",
      " -3.0685542e-04 -3.9624053e-04  1.6874340e-03 -2.4091282e-03\n",
      " -1.1497095e-03 -3.8377002e-03 -2.5127439e-03  3.1333994e-03\n",
      "  9.6422865e-04  7.5007736e-04 -3.6715569e-03 -3.6628130e-03\n",
      " -3.9588567e-04  4.2847561e-04  3.5204762e-03  3.4711803e-03\n",
      "  1.9056328e-03  3.4816659e-03  2.4123155e-03  1.5455156e-03\n",
      " -1.2759456e-03  2.8269468e-03  7.1875926e-04 -1.1753439e-03\n",
      "  1.8754436e-03 -3.2763411e-03 -2.8987522e-03 -3.4237356e-04\n",
      " -3.8297952e-04 -3.3180716e-03 -1.1663426e-03  8.6292253e-05\n",
      "  1.9866531e-03 -2.3163364e-03  1.2276529e-03  3.1073214e-03\n",
      "  3.6984859e-03  4.2777378e-04  9.8987890e-04 -2.8462084e-03\n",
      "  3.8946333e-04  1.8339773e-03  1.2355441e-03 -1.2839928e-03\n",
      " -2.7186133e-03  5.4490240e-04  3.2365248e-03  1.6241870e-03\n",
      "  2.1639976e-03 -1.8732825e-03 -5.0400721e-04  7.7683484e-04\n",
      " -2.1677078e-03 -2.2613810e-04 -3.0572964e-03 -1.4419082e-03\n",
      " -2.2285074e-04 -3.3056575e-03 -2.5905627e-03 -1.1288414e-03\n",
      " -3.6474236e-03  5.2947039e-04  3.1742346e-04  3.7217955e-04\n",
      " -3.3223964e-03  3.7519404e-04  3.3198118e-03 -1.2248126e-04\n",
      " -2.9083784e-03 -1.8672199e-03 -2.1499447e-03  6.7302643e-04\n",
      " -2.4360465e-03 -1.9553087e-03  3.3364894e-03 -2.2951947e-03\n",
      " -3.1205581e-03 -1.7482723e-04 -2.0418642e-03 -9.1568107e-04\n",
      "  5.7349278e-04 -1.3056586e-03  2.4690921e-03  3.8947919e-03\n",
      " -3.4514654e-03 -1.9928920e-03  1.3958728e-03  1.9063293e-03\n",
      " -1.5896633e-03 -2.8299759e-03  2.4450507e-03 -1.7221826e-03\n",
      " -2.6746439e-03 -2.0914445e-04 -9.6831995e-04  1.3483249e-03]\n"
     ]
    }
   ],
   "source": [
    "test_para = your_space_separated_query.lower().split(' ')\n",
    "test_vec = model.infer_vector(test_para)\n",
    "print (test_vec)"
   ]
  },
  {
   "cell_type": "code",
   "execution_count": 136,
   "metadata": {},
   "outputs": [
    {
     "name": "stdout",
     "output_type": "stream",
     "text": [
      "[(108, 0.2561199367046356), (253, 0.2261715829372406), (261, 0.22436565160751343), (188, 0.22143778204917908), (461, 0.2154453843832016), (172, 0.20961256325244904), (209, 0.2073727399110794), (56, 0.20387431979179382), (252, 0.2014692723751068), (742, 0.19397374987602234)]\n"
     ]
    }
   ],
   "source": [
    "match = model.__dict__['docvecs'].most_similar([test_vec])\n",
    "print(match)"
   ]
  },
  {
   "cell_type": "code",
   "execution_count": 137,
   "metadata": {},
   "outputs": [
    {
     "name": "stdout",
     "output_type": "stream",
     "text": [
      "Jana, which used to refer to a tribe, refers to people in general in later texts, and the term vish, which indicated a lineage or clan in earlier times, now referred to the subjects of a king. At the same time a new term appeared janata which meant a people . The area in which such a people was settledwas called janapada. Pada originally meant step , so janapada was the place of a tribe , but it was now used to designate the territory of a people\n",
      "\n",
      "In the meantime the Rashtrakutas had consolidated their hold on the Deccan and were looking northward. The third Rashtrakuta king, Dhruva c. 770 793 , invaded the Gangetic plains with a large army and defeated both Vatsaraja and Dharmapala. After Dhruva s death, when Rashtrakuta power was eclipsed for some time, Dharmapala took his chance and THE REGIONAL KINGDOMS OF EARLY MEDIEVAL INDIA 108captured Kanauj and held court there and many kings bowed down beforehim with trembling crowns and showered their praise upon him , as it is proclaimed in one of his inscriptions.But soon Vatsaraja s son, Nagabhata, restored the glory of the Gurjara Pratiharas, recaptured Kanauj and then proceeded to vanquish Dharmapala. This victory made the new Rashtrakuta king, Govinda III, very jealous. He pounced upon Nagabhata who had to flee to the desert of Rajasthan while Dharmapala quickly annexed Kanauj once more. In the following generation of rulers, Dharmapala s son Devapala c. 821 860 was the most prominent. He could extend his sway as the contemporary Gurjara Pratiharas and Rashtrakutas were weak rulers. But in the ninth century the Gurjara Pratihara kings, Bhoja 836 885 and Mahendrapala 885 910 , proved to be more powerful than their contemporaries of the other two dynasties whom they defeated several times. Kanauj then emerged as the main focus of power in India.Towards the end of the ninth century the Rashtrakutas gained in strength once more under their kings Indra III and the great Krishna III 939 968 whose power made an impact on all major regions of India\n",
      "\n",
      "The strength of the Gurjara Pratihara dynasty was based to a large extenton the integration of the various Rajput tribes and clans into the imperial THE REGIONAL KINGDOMS OF EARLY MEDIEVAL INDIA 111system. When Gurjara Pratihara power declined after the sacking of Kanaujby the Rashtrakutas in the early tenth century many Rajput princes declared their independence and founded their own kingdoms, some of which grew to importance in the subsequent two centuries. The better-known among those dynasties were the Chaulukyas or Solankis of Kathiawar and Gujarat, the Chahamanas i.e. Chauhan of eastern Rajasthan Ajmer and Jodhpur , and the Tomaras who had founded Delhi Dhillika in 736 but had then been displaced by the Chauhans in the twelfth century. Rajput descent was also claimed by the Chandellas of Khajuraho and the Kalachuris of Tripuri Madhya Pradesh . With their martial lifestyle and feudal culture which was praised by bards for many centuries throughout northern and central India, the Rajputs made a definite impact on Indian history in the Late Middle Ages. Even in distant Orissa several of the princely lineages still trace their descent from the Rajputs. The Rajas of Patna-Bolangir in western Orissa, among them the former Chief Minister of Orissa, R.N.Singh Deo, even proudly claim to belong to the lineage of Prithviraj Chauhan, the great hero who valiantly defended India in 1192 against the Muslim invaders at the head of a Rajput confederation. Historians have referred to this spread of Rajput culture as Rajputisation . It became of added importance at the time of the Mughal empire when many Rajput families rose to high positions in the imperial service. In fact, due to intermarriage the later Mughals were themselves partly Rajputs. One of the most important contributions of the Rajput dynasties to Indian culture was their patronage of temple building and sculpture. The Chandellas who commissioned the building of the magnificent temples of Khajuraho are a good example of this great age of Rajput culture.The Pala dynasty of East IndiaThe most important dynasty of East India were the Palas. The founder of this dynasty, Gopala, was not of royal lineage. It is said that he was elected by the people in order to put an end to the general chaos which had prevailed in the country. His son, Dharmapala, stated in an inscription that his father was elected so as to put an end to the state of the fishes and he was supposed to touch the hand of fortune . The Law of the Fishes matsyanyaya which states that the big are devouring the small in a state of anarchy a-rajaka, i.e. kingless period is frequently referred to in old Indian writings on the principles of government. The political and philosophical ideas of Hobbes were thus anticipated in India, and if the reports are true then Gopala owed his kingship to the kind of rational contract between the ruler and the ruled which Hobbes had in mind.Gopala s dynasty rose to great prominence under his two greatsuccessors, Dharmapala c. 790 821 and Devapala 821 860 , who intervened with great success in the political affairs of North India. But THE REGIONAL KINGDOMS OF EARLY MEDIEVAL INDIA 112after these two great rulers the Palas lapsed back into insignificance forsome time. Their power was restricted to their immediate domain around Patna and they completely lost their hold on Bengal. Only Mahipala 988 1038 restored the greatness of Pala rule, although he was temporarily affected by the northern expedition of the Chola king, Rajendra I. Under his successors Pala power was reduced by constant fights with the Kalachuris who ruled the eastern part of what is now Madhya Pradesh. It seems that the Palas even recognised the suzerainty of the Kalachuris for some time. While they were thus confronted with powerful rivals in the west they also faced difficulties in the east where the allodial lords of the tribe of the Kaivartas put up a valiant resistance to the Pala penetration of Varendra northeast Bengal . Three Kaivarta rulers had controlled large parts of Varendra until Ramapala put an end to Kaivarta power by cementing an alliance with various neighbouring rulers. In this way he was able to restore Pala glory for some time, but his weak successors could not stop the decline of the dynasty\n",
      "\n"
     ]
    }
   ],
   "source": [
    "prob_sum = 0\n",
    "target_prob = 0.6\n",
    "for pair in match:\n",
    "    print (original_para[pair[0]])\n",
    "    print ()\n",
    "    prob_sum += pair[1]\n",
    "    if prob_sum > target_prob:\n",
    "        break"
   ]
  },
  {
   "cell_type": "code",
   "execution_count": null,
   "metadata": {},
   "outputs": [],
   "source": [
    "print(len(paragraphs))"
   ]
  },
  {
   "cell_type": "code",
   "execution_count": null,
   "metadata": {},
   "outputs": [],
   "source": [
    "model.__dict__['docvecs'][23]"
   ]
  },
  {
   "cell_type": "code",
   "execution_count": null,
   "metadata": {},
   "outputs": [],
   "source": []
  }
 ],
 "metadata": {
  "kernelspec": {
   "display_name": "Python 3",
   "language": "python",
   "name": "python3"
  },
  "language_info": {
   "codemirror_mode": {
    "name": "ipython",
    "version": 3
   },
   "file_extension": ".py",
   "mimetype": "text/x-python",
   "name": "python",
   "nbconvert_exporter": "python",
   "pygments_lexer": "ipython3",
   "version": "3.7.3"
  }
 },
 "nbformat": 4,
 "nbformat_minor": 2
}
